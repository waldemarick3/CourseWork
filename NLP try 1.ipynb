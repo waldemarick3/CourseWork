{
  {
   "cell_type": "code",
   "execution_count": 43,
   "id": "8c80eb5e",
   "metadata": {},
   "outputs": [],
   "source": [
    "\n",
    "from bs4 import BeautifulSoup\n",
    "\n",
    "def extract_text(html_string):\n",
    "    soup = BeautifulSoup(html_string, 'html.parser')\n",
    "    tags = ['h1', 'h2', 'h3', 'h4', 'h5', 'h6', 'a', 'p','em']\n",
    "    text = ''\n",
    "    for tag in tags:\n",
    "        elements = soup.find_all(tag)\n",
    "        for element in elements:\n",
    "            text += ' '+element.get_text()+' '\n",
    "    return text\n",
    "\n",
    "\n",
    "def extract_hrefs(html_string):\n",
    "    soup = BeautifulSoup(html_string, 'html.parser')\n",
    "    tags = ['a']\n",
    "    text = ''\n",
    "    for tag in tags:\n",
    "        elements = soup.find_all(tag)\n",
    "        for element in elements:\n",
    "            text += ' '+element.get_text()+' '\n",
    "    return text"
   ]
  },
  {
   "cell_type": "code",
   "execution_count": 45,
   "id": "e5241443",
   "metadata": {},
   "outputs": [
    {
     "name": "stdout",
     "output_type": "stream",
     "text": [
      " Предыстория  Немного про деплой  Проблема балансировки  Плюсы и минусы данного решения  Далее  digital ocean  https://github.com/tarmalonchik/git_trigger  https://github.com/vkidmode/server-core  Round Robin  Round Robin  В какой-то момент написанного кода становится слишком много для того, чтобы просто на него забить.  Я backend разработчик с опытом около 3-х лет, пишу в основном на Golang. Проработал в нескольких крупных российских компаниях. Сейчас я параллельно со своей работой пытаюсь сделать удобный, дешевый VPN сервис с высокой пропускной способностью. В этой статье я хочу просто рассказать про жизненный цикл своего проекта. Возможно кому-то будет просто интересно почитать, а кто-то может почерпнуть что-то новое для себя.    Как и у всех жителей в РФ в какой-то момент времени у меня возникла потребность использовать VPN. Я начал использовать платный VPN сервис, но потом блокировки добрались и до него. Блокировки начали происходить все чаще и чаще, и я понял что надо попробовать сделать свой.  Я начал выбирать протокол для VPN и через некоторое время мой выбор пал на wireguard. Причиной данного выбора стала простота настройки, высокая пропускная способность, наличие sdk для различных платформ, а также приятное в использовании приложение.   Я арендовал сервер, и настроил на нем wireguard. В интернете есть много статей, в которых рассказывается, как настраивается wireguard на сервере. Я пользовался данной статьей от digital ocean.  Сделал себе конфигурацию и начал пользоваться своим собственным сервером. Моя история могла закончиться на этом месте, но, как оказалось, я был не единственным, кому нужен был VPN. Сначала VPN понадобился членам моей семьи, потом VPN понадобился друзьям, потом друзьям друзей и тд.  Серверы стоят довольно дешево, можно за 10 евро арендовать сервер, который будет обслуживать до 200 пользователей, при этом у некоторых cloud провайдеров практически отсутствует ограничение по трафику. Bandwidth в 1 Гбит тоже очень сложно забить. Самое тонкое место оказалось CPU.   Когда количество пользователей начало увеличиваться, я принял решение автоматизировать процесс получения доступа к своим серверам за небольшую оплату. Количество пользователей быстро выросло, и надо было думать над тем, как балансировать нагрузку на какой-то пул серверов.  В качестве клиента, с помощью которого пользователи могут получать конфигурации для подключения к серверам, я решил выбрать телеграм бот. Для таких целей телеграм бот идеальный клиент, так как не требует больших временных затрат на разработку. При появлении большого количества кнопок и действий в телеграм боте код быстро деградирует, и его становится сложно понимать, поэтому я написал отдельную либу для работы с кнопками в телеграм боте. В ближайшее время я опубликую эту библиотеку.   Я решил сделать отдельный сервер, который занимается вопросами подписки пользователей, далее - master_server. Серверы на которые установлен wireguard, и идет трафик от пользователей, далее буду называть - slave_server.   В то время я не знал про github actions, поэтому использовал самописную либу для мониторинга обновлений в github, для пересборки проекта при обновлении master branch.   https://github.com/tarmalonchik/git_trigger (не рекомендую пользоваться этим)  Я уже опубликовывал эту библиотеку на хабре, и мне в комментариях посоветовали перейти на github actions, что я в последствии и сделал.  Так как на master_server стоит http_server, grpc_server и большое количество воркеров для обработки телеграма, рассылок уведомлений и тд, пришлось написать отдельную библиотку для запуска сервиса. Тут есть graceful shutdown с таймаутом,  обработка паник, а также возможность добавлять воркеры на лету.  https://github.com/vkidmode/server-core (этим можно пользоваться)  Про взаимодействие slave_server и master_server я расскажу подробнее в следующей статье.   Минимальная конфигурация wireguard выглядит примерно вот так:  Можно заметить, что в данной конфигурации явно прописан IP адрес сервера. Это одна из проблем, так как хочется иметь возможность поменять сервер. Если просто прописать в конфигурации адрес сервера, то при изменении сервера придется вносить изменения во все конфигурации. Некоторые пользователи устанавливают VPN своим родителям, бабушкам, дедушкам, которые не будут иметь возможности поменять IP адрес в случае необходимости.   Я решил найти балансировщик нагрузки, для того чтобы указывать в конфигурации wireguard адрес load balancer. Так как пакеты wireguard передаются по UDP протоколу, надо искать балансировщик UDP трафика. Данная схема должна была выглядеть вот так:  Для того чтобы реализовать данную схему, необходимо использовать балансировщик нагрузки. Тут стоит упомянуть, что балансировка бывает на разных уровнях: Прикладной, Транспортный и Сетевой. В моем кейсе я использовал балансировку на сетевом транспортном уровне. Также бывают разные алгоритмы балансировки. К примеру Round Robin и Least Connections. К слову, балансировка Round Robin - это самый тупой и простой способ балансировки, можно сказать, рандомная балансировка. Балансировка по алгоритму Least Connections более предпочтительна, так как она учитывает количество соединений, когда решает куда отправить запрос.   Некоторые cloud провайдеры, такие как hetzner или digital ocean предоставляют отдельные серверы, выполняющие роль балансировщика нагрузки. Но, как оказалось, они предоставляют только балансировку tcp трафика. Связано это с тем, что балансировка tcp и udp происходит по-разному. Нам важно, чтобы пакеты в рамках одного запроса отправлялись на один и тот же сервер, иначе один запрос размажется на несколько серверов, и мы не получим ответа. Tcp запрос имеет сессию, поэтому можно производить балансировку по tcp сессии, udp же не имеет такого понятия как сессия, поэтому механизмы балансировки tcp и udp различные.   В итоге, я остановил свой выбор на nginx. Nginx дает возможность балансировать udp трафик. Это делается довольно просто. Для этого в конфигурации nginx есть отдельный блок для настойки балансировки:  У nginx есть еще более продвинутые методы балансировки, нежели Least Connections. К примеру least_time, который учитывает не только количество соединений, но также среднее время ответа с сервера. Для меня эта настройка не имеет особого смысла, так как мой сервер будет проксировать запросы через себя, и nginx будет учитывать время ответа каких-то внешних ресурсов, поэтому использовал просто least_conn.   Под выбором алгоритма балансировки необходимо указать пулл серверов. То есть теперь для добавления сервера необходимо всего лишь поправить конфигурацию в nginx и сделать service nginx reload.    Изначально предполагалось, что балансировка нагрузки с помощью load balancer - хорошая идея. Я думал, что большая часть вычислительных мощностей серверов расходуется на encryption/decryption upd пакетов в wireguard, и load balancer не будет сильно нагружаться, так как занимается только пробрасыванием пакетов. Но я ошибался, после того как я нагрузил серверы, оказалось, что нагрузка на load balancer получается примерно такой же как и на конечном сервере. Выходит, что балансировать нагрузку таким образом (в моем кейсе) не самая лучшая идея. Дополнительную проблему создает то, что трафик считается на load balancer как суммарный трафик со всех серверов. Так что, даже в том случае, если бы CPU нагрузка на load balancer была низкой, мне пришлось бы платить двойную стоимость за трафик.   Плюсы:  Легко добавлять и убирать новые серверы  Качественная балансировка, нагрузка равномерно распределяется по серверам (она не учитывает количество трафика от пиров, но лучше, чем слепое распределение)  Минусы:  Load Balancer сервер нужно выбирать мощный, а значит, увеличивается стоимость  Переплата за трафик  Существует единая точка отказа, если Load Balancer чувствует себя плохо, то все клиенты испытывают проблемы  Сложность масштабирования, если количество серверов превысит 10-15, то невозможно будет найти сервер на роль балансировщика  Ограниченность канала балансировщика.  Эта статья не о том, как надо делать или как не надо, а скорее описание процесса проб и ошибок. Если эта статья покажется кому-то интересной, то я напишу, что было дальше, какие проблемы возникали, и как они были решены.   не рекомендую пользоваться этим  Прикладной  Транспортный  Сетевой \n"
     ]
    }
   ],
   "source": [
    "from bs4 import BeautifulSoup\n",
    "import re\n",
    "import datetime\n",
    "from typing import Optional, Tuple, Dict, Union\n",
    "import requests\n",
    "from bs4 import BeautifulSoup\n",
    "\n",
    "href = 'https://habr.com/ru/post/718898/'\n",
    "\n",
    "def parse_post(url):\n",
    "    headers = {\n",
    "        'User-Agent': 'Mozilla/5.0 (X11; Linux x86_64) AppleWebKit/537.36 (KHTML, like Gecko) Chrome/51.0.2704.103 Safari/537.36'\n",
    "    }\n",
    "    response = requests.get(url, headers=headers)\n",
    "    soup = BeautifulSoup(response.content, 'html.parser')\n",
    "    post = soup.find('div', {'id': 'post-content-body'})\n",
    "    res = extract_text(str(post))\n",
    "\n",
    "\n",
    "    \n",
    "\n",
    "    return res\n",
    "print(parse_post(href))"
   ]
  },
  {
   "cell_type": "code",
   "execution_count": 42,
   "id": "74eba5f6",
   "metadata": {},
   "outputs": [
    {
     "data": {
      "application/vnd.jupyter.widget-view+json": {
       "model_id": "75218c501e7d476db0256f5c26b061de",
       "version_major": 2,
       "version_minor": 0
      },
      "text/plain": [
       "Downloading https://raw.githubusercontent.com/stanfordnlp/stanza-resources/main/resources_1.4.1.json:   0%|   …"
      ]
     },
     "metadata": {},
     "output_type": "display_data"
    },
    {
     "name": "stderr",
     "output_type": "stream",
     "text": [
      "2023-03-05 18:51:17 INFO: Downloading default packages for language: ru (Russian) ...\n",
      "2023-03-05 18:51:19 INFO: File exists: C:\\Users\\79110\\stanza_resources\\ru\\default.zip\n",
      "2023-03-05 18:51:25 INFO: Finished downloading models and saved to C:\\Users\\79110\\stanza_resources.\n",
      "2023-03-05 18:51:26 INFO: Checking for updates to resources.json in case models have been updated.  Note: this behavior can be turned off with download_method=None or download_method=DownloadMethod.REUSE_RESOURCES\n"
     ]
    },
    {
     "data": {
      "application/vnd.jupyter.widget-view+json": {
       "model_id": "1fa326068e03490b8288f821a75d7f5c",
       "version_major": 2,
       "version_minor": 0
      },
      "text/plain": [
       "Downloading https://raw.githubusercontent.com/stanfordnlp/stanza-resources/main/resources_1.4.1.json:   0%|   …"
      ]
     },
     "metadata": {},
     "output_type": "display_data"
    },
    {
     "name": "stderr",
     "output_type": "stream",
     "text": [
      "2023-03-05 18:51:29 INFO: Loading these models for language: ru (Russian):\n",
      "=========================\n",
      "| Processor | Package   |\n",
      "-------------------------\n",
      "| tokenize  | syntagrus |\n",
      "| ner       | wikiner   |\n",
      "=========================\n",
      "\n",
      "2023-03-05 18:51:29 INFO: Use device: cpu\n",
      "2023-03-05 18:51:29 INFO: Loading: tokenize\n",
      "2023-03-05 18:51:29 INFO: Loading: ner\n",
      "2023-03-05 18:51:31 INFO: Done loading processors!\n"
     ]
    },
    {
     "name": "stdout",
     "output_type": "stream",
     "text": [
      "entity: Немного про деплой  Проблема балансировки  Плюсы\ttype: MISC\n",
      "entity: Далее  digital\ttype: MISC\n",
      "entity: Round Robin  Round Robin\ttype: MISC\n",
      "entity: Golang\ttype: MISC\n",
      "entity: российских\ttype: MISC\n",
      "entity: VPN\ttype: MISC\n",
      "entity: РФ\ttype: LOC\n",
      "entity: VPN\ttype: MISC\n",
      "entity: VPN\ttype: MISC\n",
      "entity: wireguard\ttype: MISC\n",
      "entity: wireguard\ttype: MISC\n",
      "entity: VPN\ttype: MISC\n",
      "entity: VPN\ttype: MISC\n",
      "entity: VPN\ttype: MISC\n",
      "entity: Серверы\ttype: MISC\n",
      "entity: cloud\ttype: MISC\n",
      "entity: Bandwidth\ttype: MISC\n",
      "entity: Гбит\ttype: MISC\n",
      "entity: master_server\ttype: MISC\n",
      "entity: master_server\ttype: MISC\n",
      "entity: https://github.com/vkidmode/server-core\ttype: MISC\n",
      "entity: wireguard\ttype: MISC\n",
      "entity: IP\ttype: MISC\n",
      "entity: VPN\ttype: MISC\n",
      "entity: IP\ttype: MISC\n",
      "entity: wireguard\ttype: MISC\n",
      "entity: UDP\ttype: MISC\n",
      "entity: UDP\ttype: MISC\n",
      "entity: Прикладной\ttype: LOC\n",
      "entity: Транспортный\ttype: LOC\n",
      "entity: Сетевой\ttype: MISC\n",
      "entity: Round Robin\ttype: MISC\n",
      "entity: Least Connections\ttype: MISC\n",
      "entity: Round Robin\ttype: MISC\n",
      "entity: Least Connections\ttype: MISC\n",
      "entity: tcp\ttype: MISC\n",
      "entity: tcp\ttype: MISC\n",
      "entity: udp\ttype: MISC\n",
      "entity: Tcp\ttype: MISC\n",
      "entity: nginx\ttype: MISC\n",
      "entity: Nginx\ttype: MISC\n",
      "entity: nginx\ttype: MISC\n",
      "entity: nginx\ttype: MISC\n",
      "entity: Least Connections\ttype: MISC\n",
      "entity: least_time\ttype: MISC\n",
      "entity: nginx\ttype: MISC\n",
      "entity: nginx\ttype: MISC\n",
      "entity: CPU\ttype: MISC\n",
      "entity: Качественная балансировка\ttype: MISC\n",
      "entity: Load Balancer\ttype: MISC\n",
      "entity: Load Balancer\ttype: MISC\n",
      "entity: Ограниченность канала балансировщика\ttype: MISC\n",
      "entity: Прикладной  Транспортный  Сетевой  Python\ttype: MISC\n"
     ]
    }
   ],
   "source": [
    "\n",
    "import stanza\n",
    "stanza.download('ru')\n",
    "def stanza_nlp_ru(text):\n",
    "    nlp = stanza.Pipeline(lang='ru', processors='tokenize,ner')\n",
    "    doc = nlp(text)\n",
    "    print(*[f'entity: {ent.text}\\ttype: {ent.type}' for sent in doc.sentences for ent in sent.ents], sep='\\n')\n",
    "stanza_nlp_ru(str(parse_post(href))+ ' Python')"
   ]
  }
 ],
 "metadata": {
  "kernelspec": {
   "display_name": "Python 3 (ipykernel)",
   "language": "python",
   "name": "python3"
  },
  "language_info": {
   "codemirror_mode": {
    "name": "ipython",
    "version": 3
   },
   "file_extension": ".py",
   "mimetype": "text/x-python",
   "name": "python",
   "nbconvert_exporter": "python",
   "pygments_lexer": "ipython3",
   "version": "3.10.6"
  }
 },
 "nbformat": 4,
 "nbformat_minor": 5
}
