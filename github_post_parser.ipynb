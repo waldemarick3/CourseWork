{
 "cells": [
  {
   "cell_type": "code",
   "execution_count": null,
   "id": "b8e7340c",
   "metadata": {},
   "outputs": [],
   "source": []
  },
  {
   "cell_type": "code",
   "execution_count": 114,
   "id": "48852a9f",
   "metadata": {},
   "outputs": [],
   "source": [
    "from bs4 import BeautifulSoup\n",
    "\n",
    "def parse_github_info(html_str,url):\n",
    "    soup = BeautifulSoup(html_str, 'html.parser')\n",
    "    \n",
    "    github_info = {\n",
    "        'name': None,\n",
    "        'stars': None,\n",
    "        'forks': None,\n",
    "        'watching': None,\n",
    "        'languages': None,\n",
    "        'tags': None\n",
    "    }\n",
    "    try:\n",
    "        name = soup.find('p', class_='f4 my-3').text.strip()\n",
    "\n",
    "        path = url.split('//')[-1].split('/', 1)[-1]\n",
    "        stars = soup.find('a', href='/' +path+'/stargazers').strong.text.strip()\n",
    "        forks = soup.find('a', href='/' +path+'/forks').strong.text.strip()\n",
    "        watching = soup.find('a', href='/' +path+'/watchers').strong.text.strip()\n",
    "\n",
    "        languages = []\n",
    "        language_items = soup.find_all('a', href=lambda href: href and '/search?l=' in href)\n",
    "        for language_item in language_items:\n",
    "            language = language_item.text.strip()\n",
    "            languages.append(language.split('\\n')[0])\n",
    "\n",
    "        tags = []\n",
    "        tag_items = soup.find_all('a', class_='topic-tag')\n",
    "        for tag_item in tag_items:\n",
    "            tags.append(tag_item.text.strip())\n",
    "    \n",
    "        github_info = {\n",
    "            'name': name,\n",
    "            'stars': stars,\n",
    "            'forks': forks,\n",
    "            'watching': watching,\n",
    "            'languages': tuple(languages),\n",
    "            'tags': tuple(tags)\n",
    "        }\n",
    "\n",
    "        return github_info\n",
    "    except:\n",
    "        return None\n"
   ]
  },
  {
   "cell_type": "code",
   "execution_count": 115,
   "id": "e5241443",
   "metadata": {},
   "outputs": [],
   "source": [
    "import requests\n",
    "from bs4 import BeautifulSoup\n",
    "\n",
    "def parse_github_post(url):\n",
    "    headers = {\n",
    "        'User-Agent': 'Mozilla/5.0 (X11; Linux x86_64) AppleWebKit/537.36 (KHTML, like Gecko) Chrome/51.0.2704.103 Safari/537.36'\n",
    "    }\n",
    "\n",
    "    try:\n",
    "        response = requests.get(url, headers=headers)\n",
    "        response.raise_for_status() \n",
    "    except requests.exceptions.RequestException:\n",
    "        return None\n",
    "\n",
    "    soup = BeautifulSoup(response.content, 'html.parser')\n",
    "    stat_elem = soup.find('div', {'class': 'Layout-sidebar'})\n",
    "    \n",
    "    return parse_github_info(str(stat_elem),url)"
   ]
  },
  {
   "cell_type": "code",
   "execution_count": 116,
   "id": "131ddf78",
   "metadata": {},
   "outputs": [
    {
     "name": "stdout",
     "output_type": "stream",
     "text": [
      "{'name': 'Пример лабораторной работы по С++', 'stars': '0', 'forks': '0', 'watching': '1', 'languages': ('Makefile', 'C++', 'C', 'Shell', 'PHP'), 'tags': ('netbeans', 'cpp', 'examples')}\n"
     ]
    }
   ],
   "source": [
    "url = 'https://github.com/Meirbek-dev/GitHub_Scrapper'\n",
    "url2 = 'https://github.com/nurkaydarov/NAK_CPP_LAB4'\n",
    "print(parse_github_post(url2))"
   ]
  }
 ],
 "metadata": {
  "kernelspec": {
   "display_name": "Python 3 (ipykernel)",
   "language": "python",
   "name": "python3"
  },
  "language_info": {
   "codemirror_mode": {
    "name": "ipython",
    "version": 3
   },
   "file_extension": ".py",
   "mimetype": "text/x-python",
   "name": "python",
   "nbconvert_exporter": "python",
   "pygments_lexer": "ipython3",
   "version": "3.9.7"
  }
 },
 "nbformat": 4,
 "nbformat_minor": 5
}
